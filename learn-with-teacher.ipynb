{
 "cells": [
  {
   "cell_type": "markdown",
   "metadata": {
    "toc": true
   },
   "source": [
    "<h1>Содержание<span class=\"tocSkip\"></span></h1>\n",
    "<div class=\"toc\"><ul class=\"toc-item\"><li><span><a href=\"#Подготовка-данных\" data-toc-modified-id=\"Подготовка-данных-1\"><span class=\"toc-item-num\">1&nbsp;&nbsp;</span>Подготовка данных</a></span><ul class=\"toc-item\"><li><span><a href=\"#Выводы\" data-toc-modified-id=\"Выводы-1.1\"><span class=\"toc-item-num\">1.1&nbsp;&nbsp;</span>Выводы</a></span></li></ul></li><li><span><a href=\"#Исследование-задачи\" data-toc-modified-id=\"Исследование-задачи-2\"><span class=\"toc-item-num\">2&nbsp;&nbsp;</span>Исследование задачи</a></span><ul class=\"toc-item\"><li><span><a href=\"#Выводы\" data-toc-modified-id=\"Выводы-2.1\"><span class=\"toc-item-num\">2.1&nbsp;&nbsp;</span>Выводы</a></span></li></ul></li><li><span><a href=\"#Борьба-с-дисбалансом\" data-toc-modified-id=\"Борьба-с-дисбалансом-3\"><span class=\"toc-item-num\">3&nbsp;&nbsp;</span>Борьба с дисбалансом</a></span><ul class=\"toc-item\"><li><span><a href=\"#Выводы\" data-toc-modified-id=\"Выводы-3.1\"><span class=\"toc-item-num\">3.1&nbsp;&nbsp;</span>Выводы</a></span></li></ul></li><li><span><a href=\"#Тестирование-модели\" data-toc-modified-id=\"Тестирование-модели-4\"><span class=\"toc-item-num\">4&nbsp;&nbsp;</span>Тестирование модели</a></span></li><li><span><a href=\"#Выводы\" data-toc-modified-id=\"Выводы-5\"><span class=\"toc-item-num\">5&nbsp;&nbsp;</span>Выводы</a></span></li><li><span><a href=\"#Чек-лист-готовности-проекта\" data-toc-modified-id=\"Чек-лист-готовности-проекта-6\"><span class=\"toc-item-num\">6&nbsp;&nbsp;</span>Чек-лист готовности проекта</a></span></li><li><span><a href=\"#Общий-вывод-по-проекту\" data-toc-modified-id=\"Общий-вывод-по-проекту-7\"><span class=\"toc-item-num\">7&nbsp;&nbsp;</span><b>Общий вывод по проекту</b></a></span></li><li><span><a href=\"#Общий-вывод-по-проекту-В2\" data-toc-modified-id=\"Общий-вывод-по-проекту-В2-8\"><span class=\"toc-item-num\">8&nbsp;&nbsp;</span><b>Общий вывод по проекту В2</b></a></span></li></ul></div>"
   ]
  },
  {
   "cell_type": "markdown",
   "metadata": {},
   "source": [
    "# Отток клиентов"
   ]
  },
  {
   "cell_type": "markdown",
   "metadata": {},
   "source": [
    "Цели и задачи:\n",
    "\n",
    "   - Проанализировать исторические данные о поведении клиентов банка, расторжении договоров. Спрогнозировать уход клиента из банка.\n",
    "   - Построить модель классификации, метрика качества f1 (минимальное значение 0.59)\n",
    "   - Измерить AUC-ROC, сравнить её значение с f1-мерой.\n",
    "\n",
    "План выполнения работы:\n",
    "\n",
    "    Подготовка данных\n",
    "     1.1 Загрузка данных\n",
    "     1.2 Подготовка признаков\n",
    "    Исследование задачи\n",
    "     2.1 Решающее дерево\n",
    "     2.2 Случайный лес\n",
    "     2.3 Логистическая регрессия\n",
    "    Борьба с дисбалансом\n",
    "     3.1 Взвешивание классов\n",
    "     3.2 Upsampling и Downsampling\n",
    "    Проверка модели на тестовой выборке\n",
    "    Общий вывод\n",
    "\n",
    "\n",
    "Источник данных: [https://www.kaggle.com/barelydedicated/bank-customer-churn-modeling](https://www.kaggle.com/barelydedicated/bank-customer-churn-modeling)"
   ]
  },
  {
   "cell_type": "markdown",
   "metadata": {},
   "source": [
    "## Подготовка данных"
   ]
  },
  {
   "cell_type": "code",
   "execution_count": null,
   "metadata": {},
   "outputs": [],
   "source": [
    "%pip install phik"
   ]
  },
  {
   "cell_type": "code",
   "execution_count": null,
   "metadata": {},
   "outputs": [],
   "source": [
    "#загрузим необходиме библиотеки\n",
    "import pandas as pd\n",
    "import numpy as np\n",
    "import seaborn as sns\n",
    "import matplotlib.pyplot as plt\n",
    "import phik\n",
    "from phik.report import plot_correlation_matrix\n",
    "from phik import report\n",
    "from sklearn.model_selection import train_test_split\n",
    "from sklearn.preprocessing import StandardScaler\n",
    "from sklearn.tree import DecisionTreeClassifier\n",
    "from sklearn.metrics import accuracy_score, f1_score, roc_auc_score\n",
    "from sklearn.ensemble import RandomForestClassifier\n",
    "from sklearn.linear_model import LogisticRegression\n",
    "from sklearn.utils import shuffle\n",
    "from sklearn.model_selection import GridSearchCV"
   ]
  },
  {
   "cell_type": "code",
   "execution_count": null,
   "metadata": {},
   "outputs": [],
   "source": [
    "#загрузим файл с данными\n",
    "try:\n",
    "    df = pd.read_csv('/datasets/Churn.csv')\n",
    "except:\n",
    "    df = pd.read_csv('Churn.csv')"
   ]
  },
  {
   "cell_type": "code",
   "execution_count": null,
   "metadata": {},
   "outputs": [],
   "source": [
    "df.head()"
   ]
  },
  {
   "cell_type": "code",
   "execution_count": null,
   "metadata": {},
   "outputs": [],
   "source": [
    "#приведем нименования к нижнему регистру\n",
    "df.columns = df.columns.str.lower()"
   ]
  },
  {
   "cell_type": "code",
   "execution_count": null,
   "metadata": {},
   "outputs": [],
   "source": [
    "#проверим на наличие дубликатов\n",
    "df.duplicated().sum()"
   ]
  },
  {
   "attachments": {},
   "cell_type": "markdown",
   "metadata": {},
   "source": [
    " дубликаты отсутствуют\n",
    "\n"
   ]
  },
  {
   "cell_type": "code",
   "execution_count": null,
   "metadata": {},
   "outputs": [],
   "source": [
    "df.info()"
   ]
  },
  {
   "attachments": {},
   "cell_type": "markdown",
   "metadata": {},
   "source": [
    " В датафрейме представлены разные типы данных. Пропуски есть только в столбце 'tenure'.\n",
    "\n"
   ]
  },
  {
   "cell_type": "code",
   "execution_count": null,
   "metadata": {},
   "outputs": [],
   "source": [
    "#удалим признаки RowNumber, CustomerId и Surname как не несущие полезной информации\n",
    "df.drop(['rownumber', 'customerid', 'surname'], axis=1, inplace=True)"
   ]
  },
  {
   "attachments": {},
   "cell_type": "markdown",
   "metadata": {},
   "source": [
    " Признаки rownumber, customerid - не несут полезной информации, т.к. являются техническими идентификаторами. surname содержит имена клиентов, которые никак не влияют на вероятность ухода клиента из Банка.\n"
   ]
  },
  {
   "cell_type": "code",
   "execution_count": null,
   "metadata": {},
   "outputs": [],
   "source": [
    "#проверим на наличие пропусков\n",
    "df.isnull().sum()"
   ]
  },
  {
   "cell_type": "markdown",
   "metadata": {},
   "source": [
    "Почти 10% данных признака Tenure пропущено. Посмотри, как распределены оставшиеся."
   ]
  },
  {
   "cell_type": "code",
   "execution_count": null,
   "metadata": {},
   "outputs": [],
   "source": [
    "df.tenure.hist(bins=50,figsize=(8, 3))\n",
    "plt.show()"
   ]
  },
  {
   "cell_type": "markdown",
   "metadata": {},
   "source": [
    "Данные рапределены относительно равномерно. Заменим пропущенные значения медианой."
   ]
  },
  {
   "cell_type": "code",
   "execution_count": null,
   "metadata": {},
   "outputs": [],
   "source": [
    "df.tenure.fillna(df.tenure.median(), inplace=True)"
   ]
  },
  {
   "cell_type": "code",
   "execution_count": null,
   "metadata": {},
   "outputs": [],
   "source": [
    "#построим матрицу корреляции\n",
    "phik_overview = df.phik_matrix()\n",
    "phik_overview.round(2)"
   ]
  },
  {
   "cell_type": "code",
   "execution_count": null,
   "metadata": {},
   "outputs": [],
   "source": [
    "sns.heatmap(df.phik_matrix(), annot = True, fmt='.1g', cbar_kws= {'orientation': 'horizontal'}, cbar=False);"
   ]
  },
  {
   "cell_type": "markdown",
   "metadata": {},
   "source": [
    "Значимых зависимостей между данными не наблюдается"
   ]
  },
  {
   "cell_type": "code",
   "execution_count": null,
   "metadata": {},
   "outputs": [],
   "source": [
    "#преобразуем категориальные признаки в численные\n",
    "df_ohe = pd.get_dummies(df, drop_first=True).rename(columns = {\n",
    "    'geography_Germany':'germany',\n",
    "    'geography_Spain':'spain', \n",
    "    'gender_Male':'male', \n",
    "})\n",
    "\n",
    "df_ohe.head()"
   ]
  },
  {
   "cell_type": "code",
   "execution_count": null,
   "metadata": {},
   "outputs": [],
   "source": [
    "df_ohe.info()"
   ]
  },
  {
   "cell_type": "markdown",
   "metadata": {},
   "source": [
    "### Выводы\n",
    "1. Данные загружены успешно. Дубликатов нет. Около 10% пропусков в столбце \"tenure\" заменены средним значением.\n",
    "2. Удалены признаки 'rownumber', 'customerid', 'surname' как не несущие нужной информации.\n",
    "3. Числовые признаки приведены к стандартному виду.\n",
    "4. Анализ матрицы корреляции не вывел значимых зависимостей между данными."
   ]
  },
  {
   "cell_type": "markdown",
   "metadata": {},
   "source": [
    "## Исследование задачи"
   ]
  },
  {
   "cell_type": "code",
   "execution_count": null,
   "metadata": {
    "scrolled": true
   },
   "outputs": [],
   "source": [
    "#посмотрим на распределение целевого признака\n",
    "df_ohe.exited.value_counts().plot(kind='pie', autopct='%1.1f%%', shadow=True, figsize=(5,4))\n",
    "plt.legend([\"Клиент ушёл\", 'Клиент остался'], fontsize=8, shadow=True, facecolor='w')\n",
    "plt.title('Распределение клиентов')\n",
    "plt.tight_layout()\n",
    "plt.axis('off');"
   ]
  },
  {
   "cell_type": "code",
   "execution_count": null,
   "metadata": {},
   "outputs": [],
   "source": [
    "#разделим данные на обучающую, тестовую и валидационную выборку в пропорциях 3:1:1 соответственно\n",
    "features = df_ohe.drop(['exited'], axis=1)\n",
    "target = df_ohe.exited\n",
    "train_features, valid_features, train_target, valid_target = \\\n",
    "                 train_test_split(features, target, \\\n",
    "                 test_size=0.4, stratify = target, random_state=12345)\n",
    "valid_features, test_features, valid_target, test_target = \\\n",
    "                train_test_split(valid_features, valid_target, test_size=0.5, random_state=12345)\n",
    "train_features.shape"
   ]
  },
  {
   "cell_type": "code",
   "execution_count": null,
   "metadata": {},
   "outputs": [],
   "source": [
    "valid_features.shape"
   ]
  },
  {
   "cell_type": "code",
   "execution_count": null,
   "metadata": {},
   "outputs": [],
   "source": [
    "test_features.shape"
   ]
  },
  {
   "cell_type": "code",
   "execution_count": null,
   "metadata": {},
   "outputs": [],
   "source": [
    "#приведем данные к одному масштабу\n",
    "numeric = ['creditscore', 'age', 'balance', 'estimatedsalary']\n",
    "scaler = StandardScaler()\n",
    "scaler.fit(train_features[numeric])\n",
    "pd.options.mode.chained_assignment = None\n",
    "\n",
    "train_features[numeric] = scaler.transform(train_features[numeric])\n",
    "\n",
    "valid_features[numeric] = scaler.transform(valid_features[numeric])\n",
    "\n",
    "test_features[numeric] = scaler.transform(test_features[numeric])"
   ]
  },
  {
   "cell_type": "markdown",
   "metadata": {},
   "source": [
    "Попробуем обучить модель без учета дисбаланса классов"
   ]
  },
  {
   "cell_type": "code",
   "execution_count": 190,
   "metadata": {},
   "outputs": [],
   "source": [
    "def model_fabric(model, depth, est):\n",
    "    if model == LogisticRegression:\n",
    "        return LogisticRegression(random_state=12345, solver='lbfgs', max_iter=1000)\n",
    "    elif model == DecisionTreeClassifier:\n",
    "        return DecisionTreeClassifier(random_state=12345, max_depth=depth)\n",
    "    elif model == RandomForestClassifier:\n",
    "        return RandomForestClassifier(random_state=12345, criterion='gini', n_estimators=est, max_depth=depth)\n",
    "    else:\n",
    "        print('Неизвестная модель')\n",
    "\n",
    "def generator(model_name, train_features, train_target, valid_features, valid_target, depth_range=range(1, 2), est_range=range(1, 2)):\n",
    "    best_result_f1 = 0\n",
    "    best_result_roc_auc = 0\n",
    "    best_depth_f1 = 0\n",
    "    best_depth_roc_auc = 0\n",
    "    best_est_f1 = 0\n",
    "    best_est_roc_auc = 0\n",
    "\n",
    "    for est in est_range:\n",
    "        for depth in depth_range:\n",
    "            model = model_fabric(model_name, depth, est)\n",
    "            model.fit(train_features, train_target) \n",
    "            predictions = model.predict(valid_features) \n",
    "            result_f1 = f1_score(valid_target, predictions) \n",
    "            if result_f1 > best_result_f1:\n",
    "                best_result_f1 = result_f1\n",
    "                best_depth_f1 = depth\n",
    "                best_est_f1 = est\n",
    "            probabilities_valid = model.predict_proba(valid_features)\n",
    "            probabilities_one_valid = probabilities_valid[:, 1]\n",
    "            result_roc_auc = roc_auc_score(valid_target, probabilities_one_valid)\n",
    "            if result_roc_auc > best_result_roc_auc:\n",
    "                best_result_roc_auc = result_roc_auc\n",
    "                best_depth_roc_auc = depth\n",
    "                best_est_roc_auc = est\n",
    "\n",
    "    return best_result_f1, best_result_roc_auc, best_depth_f1, best_depth_roc_auc, best_est_f1, best_est_roc_auc"
   ]
  },
  {
   "cell_type": "code",
   "execution_count": 191,
   "metadata": {},
   "outputs": [
    {
     "name": "stdout",
     "output_type": "stream",
     "text": [
      "F1-метрика: 0.3050847457627119 \n",
      "ROC_AUC: 0.770301008235326\n"
     ]
    }
   ],
   "source": [
    "best_result_f1, best_result_roc_auc, *other = generator(LogisticRegression, train_features, \n",
    "                                                        train_target, valid_features, valid_target)\n",
    "\n",
    "print('F1-метрика:', best_result_f1, \n",
    "      '\\nROC_AUC:',best_result_roc_auc)"
   ]
  },
  {
   "cell_type": "code",
   "execution_count": 192,
   "metadata": {},
   "outputs": [
    {
     "name": "stdout",
     "output_type": "stream",
     "text": [
      "F1-метрика: 0.5607476635514019 \n",
      "ROC_AUC: 0.8323735255174299\n"
     ]
    }
   ],
   "source": [
    "best_result_f1, best_result_roc_auc, best_depth_f1, best_depth_roc_auc, *other = generator(DecisionTreeClassifier, \n",
    "                                                        train_features, train_target, valid_features, \n",
    "                                                        valid_target, depth_range=range(1, 30))\n",
    "\n",
    "print('F1-метрика:', best_result_f1, \n",
    "      '\\nROC_AUC:',best_result_roc_auc)"
   ]
  },
  {
   "cell_type": "code",
   "execution_count": 193,
   "metadata": {},
   "outputs": [
    {
     "name": "stdout",
     "output_type": "stream",
     "text": [
      "F1-метрика: 0.5907046476761619 \n",
      "ROC_AUC: 0.8602060977334973\n",
      "CPU times: user 3min 1s, sys: 724 ms, total: 3min 1s\n",
      "Wall time: 3min 1s\n"
     ]
    }
   ],
   "source": [
    "%%time\n",
    "\n",
    "best_result_f1, best_result_roc_auc, best_depth_f1, best_depth_roc_auc, best_est_f1, best_est_roc_auc = generator(RandomForestClassifier, train_features, train_target, valid_features, valid_target, depth_range=range(1, 30), est_range=range(1, 60))\n",
    "\n",
    "print('F1-метрика:', best_result_f1, \n",
    "      '\\nROC_AUC:',best_result_roc_auc)"
   ]
  },
  {
   "cell_type": "markdown",
   "metadata": {},
   "source": [
    "### Выводы\n",
    "1. Целевой признак распределен в отношении 4:1.\n",
    "2. При обучении обучении моделей без учета дисбаланса лучший показатель F1-точности у модели Случайного леса - 0.59. Качество модели удовлетворяет условию технического задания, но попробуем ее улучшить.\n",
    "3. Лучшее значение метрики AUC_ROC - 0,84 также дало обучение на модели случайного леса."
   ]
  },
  {
   "cell_type": "markdown",
   "metadata": {},
   "source": [
    "## Борьба с дисбалансом"
   ]
  },
  {
   "cell_type": "markdown",
   "metadata": {},
   "source": [
    "Для нивелирования дибаланса применим 2 метода - upsampling и downsampling"
   ]
  },
  {
   "cell_type": "code",
   "execution_count": 194,
   "metadata": {},
   "outputs": [],
   "source": [
    "#увеличим количество объектов редкого класса\n",
    "def upsample(features, target, repeat):\n",
    "    features_zeros = features[target == 0]\n",
    "    features_ones = features[target == 1]\n",
    "    target_zeros = target[target == 0]\n",
    "    target_ones = target[target == 1]\n",
    "\n",
    "    features_upsampled = pd.concat([features_zeros] + [features_ones] * repeat)\n",
    "    target_upsampled = pd.concat([target_zeros] + [target_ones] * repeat)\n",
    "    \n",
    "    features_upsampled, target_upsampled = shuffle(\n",
    "        features_upsampled, target_upsampled, random_state=12345)\n",
    "    \n",
    "    return features_upsampled, target_upsampled"
   ]
  },
  {
   "cell_type": "code",
   "execution_count": 195,
   "metadata": {},
   "outputs": [
    {
     "data": {
      "text/plain": [
       "1    0.50569\n",
       "0    0.49431\n",
       "Name: exited, dtype: float64"
      ]
     },
     "execution_count": 195,
     "metadata": {},
     "output_type": "execute_result"
    }
   ],
   "source": [
    "features_upsampled, target_upsampled = upsample(train_features, train_target, 4)\n",
    "target_upsampled.value_counts(normalize=True)"
   ]
  },
  {
   "cell_type": "code",
   "execution_count": 196,
   "metadata": {},
   "outputs": [],
   "source": [
    "#уменьшим количество объектов многочисленного класса\n",
    "def downsample(features, target, fraction):\n",
    "    features_zeros = features[target == 0]\n",
    "    features_ones = features[target == 1]\n",
    "    target_zeros = target[target == 0]\n",
    "    target_ones = target[target == 1]\n",
    "\n",
    "    features_downsampled = pd.concat(\n",
    "        [features_zeros.sample(frac=fraction, random_state=12345)] + [features_ones])\n",
    "    target_downsampled = pd.concat(\n",
    "        [target_zeros.sample(frac=fraction, random_state=12345)] + [target_ones])\n",
    "    \n",
    "    features_downsampled, target_downsampled = shuffle(\n",
    "        features_downsampled, target_downsampled, random_state=12345)\n",
    "    \n",
    "    return features_downsampled, target_downsampled"
   ]
  },
  {
   "cell_type": "code",
   "execution_count": 197,
   "metadata": {},
   "outputs": [],
   "source": [
    "features_downsampled, target_downsampled = downsample(train_features, train_target, fraction=0.25)"
   ]
  },
  {
   "cell_type": "code",
   "execution_count": 198,
   "metadata": {},
   "outputs": [
    {
     "data": {
      "text/plain": [
       "1    0.505795\n",
       "0    0.494205\n",
       "Name: exited, dtype: float64"
      ]
     },
     "execution_count": 198,
     "metadata": {},
     "output_type": "execute_result"
    }
   ],
   "source": [
    "target_downsampled.value_counts(normalize=True)"
   ]
  },
  {
   "cell_type": "markdown",
   "metadata": {},
   "source": [
    "Обучим модели на новых данных"
   ]
  },
  {
   "cell_type": "code",
   "execution_count": 199,
   "metadata": {},
   "outputs": [
    {
     "name": "stdout",
     "output_type": "stream",
     "text": [
      "CPU times: user 2.93 s, sys: 810 ms, total: 3.74 s\n",
      "Wall time: 19.8 s\n"
     ]
    }
   ],
   "source": [
    "%%time\n",
    "\n",
    "models_and_params = [\n",
    "    [ DecisionTreeClassifier(), { 'max_depth': range (1,31) } ],\n",
    "    [ LogisticRegression(), {'C': np.logspace(-4, 4, 50)} ],\n",
    "    [ RandomForestClassifier(), {'n_estimators': range (10, 91, 10), 'max_depth': range (1,20)} ]\n",
    "]\n",
    "scorings = ['f1', 'roc_auc']\n",
    "directions = ['down']\n",
    "\n",
    "def fitter(model, params, scoring, direction):\n",
    "    method = GridSearchCV(model, params, cv=5, n_jobs=-1, scoring=scoring)\n",
    "    method.fit(features_downsampled, target_downsampled)\n",
    "\n",
    "    return [model, scoring, direction, method.best_score_, method.best_params_]\n",
    "\n",
    "data = []\n",
    "for model, params in models_and_params:\n",
    "    for scoring in scorings:\n",
    "        for direction in directions:\n",
    "            data.append( fitter(model, params, scoring, direction) )"
   ]
  },
  {
   "cell_type": "code",
   "execution_count": 200,
   "metadata": {},
   "outputs": [],
   "source": [
    "best_result_f1, best_result_roc_auc, *other = generator(LogisticRegression, \n",
    "                                                        features_upsampled, target_upsampled, valid_features, \n",
    "                                                        valid_target)\n",
    "\n",
    "data.append(['LogisticRegression()', 'f1', 'up', best_result_f1, ''])\n",
    "data.append(['LogisticRegression()', 'roc_auc', 'up', best_result_roc_auc, ''])\n"
   ]
  },
  {
   "cell_type": "code",
   "execution_count": 205,
   "metadata": {},
   "outputs": [
    {
     "name": "stdout",
     "output_type": "stream",
     "text": [
      "CPU times: user 4 µs, sys: 1e+03 ns, total: 5 µs\n",
      "Wall time: 10 µs\n"
     ]
    }
   ],
   "source": [
    "%time\n",
    "best_result_f1, best_result_roc_auc, *other = generator(RandomForestClassifier, features_upsampled, target_upsampled, valid_features, valid_target, depth_range=range(1, 30), est_range=range(1, 60))\n",
    "\n",
    "data.append(['RandomForestClassifier()', 'f1', 'up', best_result_f1, ''])\n",
    "data.append(['RandomForestClassifier()', 'roc_auc', 'up', best_result_roc_auc, ''])\n",
    " "
   ]
  },
  {
   "cell_type": "code",
   "execution_count": 206,
   "metadata": {},
   "outputs": [],
   "source": [
    "best_result_f1, best_result_roc_auc, best_depth_f1, best_depth_roc_auc, *other = generator(DecisionTreeClassifier, \n",
    "                                                        features_upsampled, target_upsampled, valid_features, \n",
    "                                                        valid_target, depth_range=range(1, 30))\n",
    "data.append(['DecisionTreeClassifier()', 'f1', 'up', best_result_f1, ''])\n",
    "data.append(['DecisionTreeClassifier()', 'roc_auc', 'up', best_result_roc_auc, ''])"
   ]
  },
  {
   "cell_type": "code",
   "execution_count": 207,
   "metadata": {},
   "outputs": [
    {
     "data": {
      "text/html": [
       "<div>\n",
       "<style scoped>\n",
       "    .dataframe tbody tr th:only-of-type {\n",
       "        vertical-align: middle;\n",
       "    }\n",
       "\n",
       "    .dataframe tbody tr th {\n",
       "        vertical-align: top;\n",
       "    }\n",
       "\n",
       "    .dataframe thead th {\n",
       "        text-align: right;\n",
       "    }\n",
       "</style>\n",
       "<table border=\"1\" class=\"dataframe\">\n",
       "  <thead>\n",
       "    <tr style=\"text-align: right;\">\n",
       "      <th></th>\n",
       "      <th>model</th>\n",
       "      <th>scoring</th>\n",
       "      <th>direction</th>\n",
       "      <th>best_score</th>\n",
       "      <th>params</th>\n",
       "    </tr>\n",
       "  </thead>\n",
       "  <tbody>\n",
       "    <tr>\n",
       "      <th>5</th>\n",
       "      <td>RandomForestClassifier()</td>\n",
       "      <td>roc_auc</td>\n",
       "      <td>down</td>\n",
       "      <td>0.858756</td>\n",
       "      <td>{'max_depth': 7, 'n_estimators': 80}</td>\n",
       "    </tr>\n",
       "    <tr>\n",
       "      <th>9</th>\n",
       "      <td>RandomForestClassifier()</td>\n",
       "      <td>roc_auc</td>\n",
       "      <td>up</td>\n",
       "      <td>0.856836</td>\n",
       "      <td></td>\n",
       "    </tr>\n",
       "    <tr>\n",
       "      <th>11</th>\n",
       "      <td>DecisionTreeClassifier()</td>\n",
       "      <td>roc_auc</td>\n",
       "      <td>up</td>\n",
       "      <td>0.831573</td>\n",
       "      <td></td>\n",
       "    </tr>\n",
       "    <tr>\n",
       "      <th>1</th>\n",
       "      <td>DecisionTreeClassifier()</td>\n",
       "      <td>roc_auc</td>\n",
       "      <td>down</td>\n",
       "      <td>0.823880</td>\n",
       "      <td>{'max_depth': 5}</td>\n",
       "    </tr>\n",
       "    <tr>\n",
       "      <th>4</th>\n",
       "      <td>RandomForestClassifier()</td>\n",
       "      <td>f1</td>\n",
       "      <td>down</td>\n",
       "      <td>0.779339</td>\n",
       "      <td>{'max_depth': 8, 'n_estimators': 90}</td>\n",
       "    </tr>\n",
       "    <tr>\n",
       "      <th>7</th>\n",
       "      <td>LogisticRegression()</td>\n",
       "      <td>roc_auc</td>\n",
       "      <td>up</td>\n",
       "      <td>0.775381</td>\n",
       "      <td></td>\n",
       "    </tr>\n",
       "    <tr>\n",
       "      <th>3</th>\n",
       "      <td>LogisticRegression()</td>\n",
       "      <td>roc_auc</td>\n",
       "      <td>down</td>\n",
       "      <td>0.763954</td>\n",
       "      <td>{'C': 0.040949150623804234}</td>\n",
       "    </tr>\n",
       "    <tr>\n",
       "      <th>0</th>\n",
       "      <td>DecisionTreeClassifier()</td>\n",
       "      <td>f1</td>\n",
       "      <td>down</td>\n",
       "      <td>0.752474</td>\n",
       "      <td>{'max_depth': 6}</td>\n",
       "    </tr>\n",
       "    <tr>\n",
       "      <th>2</th>\n",
       "      <td>LogisticRegression()</td>\n",
       "      <td>f1</td>\n",
       "      <td>down</td>\n",
       "      <td>0.711630</td>\n",
       "      <td>{'C': 0.0001}</td>\n",
       "    </tr>\n",
       "    <tr>\n",
       "      <th>8</th>\n",
       "      <td>RandomForestClassifier()</td>\n",
       "      <td>f1</td>\n",
       "      <td>up</td>\n",
       "      <td>0.615205</td>\n",
       "      <td></td>\n",
       "    </tr>\n",
       "    <tr>\n",
       "      <th>10</th>\n",
       "      <td>DecisionTreeClassifier()</td>\n",
       "      <td>f1</td>\n",
       "      <td>up</td>\n",
       "      <td>0.542435</td>\n",
       "      <td></td>\n",
       "    </tr>\n",
       "    <tr>\n",
       "      <th>6</th>\n",
       "      <td>LogisticRegression()</td>\n",
       "      <td>f1</td>\n",
       "      <td>up</td>\n",
       "      <td>0.496042</td>\n",
       "      <td></td>\n",
       "    </tr>\n",
       "  </tbody>\n",
       "</table>\n",
       "</div>"
      ],
      "text/plain": [
       "                       model  scoring direction  best_score  \\\n",
       "5   RandomForestClassifier()  roc_auc      down    0.858756   \n",
       "9   RandomForestClassifier()  roc_auc        up    0.856836   \n",
       "11  DecisionTreeClassifier()  roc_auc        up    0.831573   \n",
       "1   DecisionTreeClassifier()  roc_auc      down    0.823880   \n",
       "4   RandomForestClassifier()       f1      down    0.779339   \n",
       "7       LogisticRegression()  roc_auc        up    0.775381   \n",
       "3       LogisticRegression()  roc_auc      down    0.763954   \n",
       "0   DecisionTreeClassifier()       f1      down    0.752474   \n",
       "2       LogisticRegression()       f1      down    0.711630   \n",
       "8   RandomForestClassifier()       f1        up    0.615205   \n",
       "10  DecisionTreeClassifier()       f1        up    0.542435   \n",
       "6       LogisticRegression()       f1        up    0.496042   \n",
       "\n",
       "                                  params  \n",
       "5   {'max_depth': 7, 'n_estimators': 80}  \n",
       "9                                         \n",
       "11                                        \n",
       "1                       {'max_depth': 5}  \n",
       "4   {'max_depth': 8, 'n_estimators': 90}  \n",
       "7                                         \n",
       "3            {'C': 0.040949150623804234}  \n",
       "0                       {'max_depth': 6}  \n",
       "2                          {'C': 0.0001}  \n",
       "8                                         \n",
       "10                                        \n",
       "6                                         "
      ]
     },
     "execution_count": 207,
     "metadata": {},
     "output_type": "execute_result"
    }
   ],
   "source": [
    "df_models = pd.DataFrame(data, columns =['model', 'scoring', 'direction', 'best_score', 'params'])\n",
    "\n",
    "#отсортируем данные по значениям точности\n",
    "df_models.sort_values(by='best_score', ascending=False)"
   ]
  },
  {
   "cell_type": "markdown",
   "metadata": {},
   "source": [
    "### Выводы\n",
    "1. Upsampling положительного класса и downsampling отрицательного класса дали необходимый прирост точности моделей.\n",
    "2. Лучшие показатели точности на тренировочной выборке у модели Случайного леса."
   ]
  },
  {
   "cell_type": "markdown",
   "metadata": {},
   "source": [
    "## Тестирование модели"
   ]
  },
  {
   "cell_type": "code",
   "execution_count": 208,
   "metadata": {},
   "outputs": [
    {
     "name": "stdout",
     "output_type": "stream",
     "text": [
      " f1 = 0.62, \n",
      " roc_auc = 0.86\n"
     ]
    }
   ],
   "source": [
    "model = RandomForestClassifier()\n",
    "model.fit(features_downsampled, target_downsampled)\n",
    "predicted_test = model.predict(test_features)\n",
    "f1 = f1_score(test_target, predicted_test)\n",
    "probabilities_test = model.predict_proba(test_features)\n",
    "probabilities_one_test = probabilities_test[:, 1]\n",
    "auc_roc = roc_auc_score (test_target, probabilities_one_test)\n",
    "print(' f1 = {}, \\n roc_auc = {}'.format(round(f1,2), round(auc_roc,2)))"
   ]
  },
  {
   "cell_type": "markdown",
   "metadata": {},
   "source": [
    "## Выводы\n",
    "\n",
    "\n",
    "1. Был проведен первичный анализ данных, выявлен явный дисбаланс классов, отрицательного к положительному - 4 к 1.\n",
    "2. Произведена предобработка данных, заполннение пропуски средним значением, прошкалированы количественные переменные, сделан One_hot_encoding.\n",
    "3. Модель Случайного леса до борьбы с дисбалансом показывала результат метрики f1 - 59%.\n",
    "4. Произвели downsampling положительного класса, благодаря чему удалось повысить f1 меру до 62%.\n",
    "    "
   ]
  },
  {
   "cell_type": "markdown",
   "metadata": {},
   "source": [
    "## Чек-лист готовности проекта"
   ]
  },
  {
   "cell_type": "markdown",
   "metadata": {},
   "source": [
    "Поставьте 'x' в выполненных пунктах. Далее нажмите Shift+Enter."
   ]
  },
  {
   "cell_type": "markdown",
   "metadata": {},
   "source": [
    "- [x]  Jupyter Notebook открыт\n",
    "- [x]  Весь код выполняется без ошибок\n",
    "- [x]  Ячейки с кодом расположены в порядке исполнения\n",
    "- [x]  Выполнен шаг 1: данные подготовлены\n",
    "- [x]  Выполнен шаг 2: задача исследована\n",
    "    - [x]  Исследован баланс классов\n",
    "    - [x]  Изучены модели без учёта дисбаланса\n",
    "    - [x]  Написаны выводы по результатам исследования\n",
    "- [x]  Выполнен шаг 3: учтён дисбаланс\n",
    "    - [x]  Применено несколько способов борьбы с дисбалансом\n",
    "    - [x]  Написаны выводы по результатам исследования\n",
    "- [x]  Выполнен шаг 4: проведено тестирование\n",
    "- [x]  Удалось достичь *F1*-меры не менее 0.59\n",
    "- [x]  Исследована метрика *AUC-ROC*"
   ]
  },
  {
   "cell_type": "code",
   "execution_count": null,
   "metadata": {},
   "outputs": [],
   "source": []
  }
 ],
 "metadata": {
  "kernelspec": {
   "display_name": "Python 3 (ipykernel)",
   "language": "python",
   "name": "python3"
  },
  "language_info": {
   "codemirror_mode": {
    "name": "ipython",
    "version": 3
   },
   "file_extension": ".py",
   "mimetype": "text/x-python",
   "name": "python",
   "nbconvert_exporter": "python",
   "pygments_lexer": "ipython3",
   "version": "3.9.5"
  },
  "toc": {
   "base_numbering": 1,
   "nav_menu": {},
   "number_sections": true,
   "sideBar": true,
   "skip_h1_title": true,
   "title_cell": "Содержание",
   "title_sidebar": "Contents",
   "toc_cell": true,
   "toc_position": {
    "height": "calc(100% - 180px)",
    "left": "10px",
    "top": "150px",
    "width": "165px"
   },
   "toc_section_display": true,
   "toc_window_display": true
  }
 },
 "nbformat": 4,
 "nbformat_minor": 2
}
